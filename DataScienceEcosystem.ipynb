{
 "cells": [
  {
   "cell_type": "markdown",
   "id": "420c14be-7cb6-49e4-955f-c4ce8f13d12b",
   "metadata": {
    "tags": []
   },
   "source": [
    "# Data Science Tools and Ecosystem"
   ]
  },
  {
   "cell_type": "markdown",
   "id": "e048c804-1fd2-492e-b7d7-aa46aecad785",
   "metadata": {},
   "source": [
    "## Author\n",
    "Roger Davis"
   ]
  },
  {
   "cell_type": "markdown",
   "id": "5d9a5c27-87e1-4656-b2a4-e937fd39f0b2",
   "metadata": {},
   "source": [
    "In this notebook, Data Science Tools and Ecosystem are summarized."
   ]
  },
  {
   "cell_type": "markdown",
   "id": "d15de5ab-ffb9-4e1a-9eac-811b39cc2cc1",
   "metadata": {},
   "source": [
    "Objectives:\n",
    "- List popular languages for Data Science\n",
    "- List commonly used libraries\n",
    "- Provide a table of some open source developmet environments\n",
    "- Show some examples of calculations in Jupyter Notebooks"
   ]
  },
  {
   "cell_type": "markdown",
   "id": "f9e255a8-a679-4272-bad9-cf96bca324eb",
   "metadata": {},
   "source": [
    "Some of the popular languages that Data Scientists use are: \n",
    "1. SQL\n",
    "2. python\n",
    "3. R\n",
    "4. Julia"
   ]
  },
  {
   "cell_type": "markdown",
   "id": "52e5fb0e-f042-48a6-8655-a6a7446b848c",
   "metadata": {},
   "source": [
    "Some of the commonly used libraries used by Data Scientists include:\n",
    "1. Numpy\n",
    "2. Pandas\n",
    "3. Scikit-learn\n",
    "4. ggplot2"
   ]
  },
  {
   "cell_type": "markdown",
   "id": "1862c523-c089-4c6c-a885-86c58ced159f",
   "metadata": {},
   "source": [
    "|Data Science Tools|\n",
    "-------------------\n",
    "| Anaconda |\n",
    "| RStudio |\n",
    "| Jupyter Notebooks |"
   ]
  },
  {
   "cell_type": "markdown",
   "id": "1da8799b-9c58-4d50-91fb-c85c6b3c9bdf",
   "metadata": {},
   "source": [
    "### Below are a few examples of evaluating arithmetic expressions in Python"
   ]
  },
  {
   "cell_type": "code",
   "execution_count": 2,
   "id": "7efacfc4-8a2c-4332-ac2e-979934867de5",
   "metadata": {},
   "outputs": [
    {
     "data": {
      "text/plain": [
       "17"
      ]
     },
     "execution_count": 2,
     "metadata": {},
     "output_type": "execute_result"
    }
   ],
   "source": [
    "# This a simple arithmetic expression to mutiply then add integers\n",
    "(3*4)+5"
   ]
  },
  {
   "cell_type": "code",
   "execution_count": 3,
   "id": "c09dc827-5a98-4761-b1a6-3568aaef355d",
   "metadata": {},
   "outputs": [
    {
     "data": {
      "text/plain": [
       "3.3333333333333335"
      ]
     },
     "execution_count": 3,
     "metadata": {},
     "output_type": "execute_result"
    }
   ],
   "source": [
    "# This will convert 200 minutes to hours by diving by 60\n",
    "200/60"
   ]
  }
 ],
 "metadata": {
  "kernelspec": {
   "display_name": "Python 3",
   "language": "python",
   "name": "python3"
  },
  "language_info": {
   "codemirror_mode": {
    "name": "ipython",
    "version": 3
   },
   "file_extension": ".py",
   "mimetype": "text/x-python",
   "name": "python",
   "nbconvert_exporter": "python",
   "pygments_lexer": "ipython3",
   "version": "3.8.8"
  }
 },
 "nbformat": 4,
 "nbformat_minor": 5
}
